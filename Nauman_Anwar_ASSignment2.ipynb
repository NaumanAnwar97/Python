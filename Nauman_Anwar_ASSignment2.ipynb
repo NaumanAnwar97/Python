{
 "cells": [
  {
   "cell_type": "code",
   "execution_count": null,
   "id": "9506ac3b",
   "metadata": {},
   "outputs": [],
   "source": [
    "\"\"\"\n",
    "Nauman Anwar \n",
    "22I-0123\n",
    "MS(BA)\n",
    "Assignement 2\n",
    "\"\"\""
   ]
  },
  {
   "cell_type": "code",
   "execution_count": 6,
   "id": "bd26db4f",
   "metadata": {},
   "outputs": [
    {
     "name": "stdout",
     "output_type": "stream",
     "text": [
      "Enter the first integer:2\n",
      "Enter the second integer:8\n",
      "The sum of all integers between 2 and 8 is: 35\n"
     ]
    }
   ],
   "source": [
    "#Question 1\n",
    "#sum of integers between two user entered numbers\n",
    "\n",
    "num_1 = int(input(\"Enter 1st integer:\"))\n",
    "num_2 = int(input(\"Enter 2nd integer:\"))\n",
    " \n",
    "sum1 = sum(range(num_1, num_2 + 1))\n",
    "print(\"The sum of all integers between\", num_1, \"and\", num_2, \"is:\", sum1)"
   ]
  },
  {
   "cell_type": "code",
   "execution_count": 9,
   "id": "1b4ba264",
   "metadata": {},
   "outputs": [
    {
     "name": "stdout",
     "output_type": "stream",
     "text": [
      "0\n"
     ]
    }
   ],
   "source": [
    "# Question no 2\n",
    "f = open(\"C:\\\\Users\\\\haier\\\\Desktop\\\\poem.txt\", \"r\")   \n",
    "data = f.read()                   \n",
    "words = data.split()               \n",
    "\n",
    "# Specified Word whose frequency is to be calculated\n",
    "countFreq_word = \"Python\" \n",
    "   \n",
    "word_occurence = 0\n",
    "\n",
    "for i in words:                   \n",
    "\tif i.lower() == countFreq_word.lower():\n",
    "\t\tword_occurence += 1\n",
    "\telse:\n",
    "\t    pass\n",
    "\n",
    "print(word_occurence)"
   ]
  },
  {
   "cell_type": "code",
   "execution_count": 21,
   "id": "51863438",
   "metadata": {},
   "outputs": [
    {
     "name": "stdout",
     "output_type": "stream",
     "text": [
      "Enter 15 integers:\n",
      "1\n",
      "2\n",
      "3\n",
      "4\n",
      "5\n",
      "6\n",
      "7\n",
      "8\n",
      "9\n",
      "10\n",
      "11\n",
      "12\n",
      "13\n",
      "14\n",
      "15\n",
      "15\n",
      "List of numbers entered is: \n",
      "  [1, 2, 3, 4, 5, 6, 7, 8, 9, 10, 11, 12, 13, 14, 15, 15]\n",
      "The list contains: \n",
      " Positives: 16 \n",
      " Negatives: 0 \n",
      " Even: 7 \n",
      " Odd: 9\n"
     ]
    }
   ],
   "source": [
    "# Question 3: \n",
    "#Finding positive, negative, odd and even integers from list\n",
    "list_1 = []\n",
    "print(\"Enter 15 integers:\")\n",
    "# Taking input of 15 integers from user \n",
    "for x in range(0, 16):\n",
    "    element = int(input())\n",
    "    list_1.append(element)\n",
    "# Printing the list created by user\n",
    "print(\"List of numbers entered is: \\n \", list_1)\n",
    "\n",
    "# Initializing all counters to 0\n",
    "pos_count, neg_count, even_count, odd_count = 0, 0, 0, 0\n",
    "\n",
    "# Checking each element in the list and classifying them as pos, neg, even, odd\n",
    "for i in list_1:\n",
    "    if i > 0 and i % 2 == 0:\n",
    "        # The element is: Positive and Even\n",
    "        pos_count += 1\n",
    "        even_count += 1\n",
    "    elif i > 0 and i % 2 != 0:\n",
    "        # The element is: Positive and Odd\n",
    "        pos_count += 1\n",
    "        odd_count += 1\n",
    "    elif i < 0 and i % 2 == 0:\n",
    "        # The element is: Negative and Even \n",
    "        neg_count += 1\n",
    "        even_count += 1\n",
    "    else:\n",
    "        # The element is: Negative and Odd \n",
    "        neg_count += 1\n",
    "        odd_count += 1\n",
    "\n",
    "# Printing the frequencies of positive, negative, even and odd integers from the list\n",
    "print(\"The list contains: \\n \"\n",
    "      \"Positives:\", pos_count, '\\n',\n",
    "      \"Negatives:\", neg_count, '\\n',\n",
    "      \"Even:\", even_count, '\\n',\n",
    "      \"Odd:\", odd_count)"
   ]
  },
  {
   "cell_type": "code",
   "execution_count": 15,
   "id": "89a302f1",
   "metadata": {},
   "outputs": [
    {
     "name": "stdout",
     "output_type": "stream",
     "text": [
      "Enter 10 integers:\n",
      "1\n",
      "2\n",
      "3\n",
      "4\n",
      "5\n",
      "6\n",
      "7\n",
      "8\n",
      "9\n",
      "-1\n",
      "List of numbers entered is: \n",
      "  [1, 2, 3, 4, 5, 6, 7, 8, 9, -1]\n",
      "Sum of integers at odd indexes of the list is:  19\n",
      "Results of integers at even indexes when divided by 2: \n",
      "  [0.5, 1.5, 2.5, 3.5, 4.5]\n",
      "{1, 2, 3, 4, 5, 6, 7, 8, 9, -1}\n"
     ]
    }
   ],
   "source": [
    "## Question 4\n",
    "values_1 = []\n",
    "print(\"Enter 10 integers:\")\n",
    "# Taking input of 10 integers from user \n",
    "for x in range(0, 10):\n",
    "    element = int(input())\n",
    "    values_1.append(element)\n",
    "# Printing the list created by user\n",
    "print(\"List of numbers entered is: \\n \", values_1)\n",
    "\n",
    "# Sum of integers at odd indexes\n",
    "sum = 0\n",
    "for i in values_1[1::2]:\n",
    "    sum2 = sum2 + i\n",
    "print(\"Sum of integers at odd indexes of the list is: \", sum2)\n",
    "\n",
    "# Division by 2 of even index integers\n",
    "mylist = []\n",
    "div = 0\n",
    "for i in values_1[::2]:\n",
    "    div = i / 2\n",
    "    mylist.append(div)\n",
    "print(\"Results of integers at even indexes when divided by 2: \\n \", mylist)\n",
    "\n",
    "#Removing duplicate values from my_values\n",
    "values_1 = set(values_1)\n",
    "print(values_1)"
   ]
  },
  {
   "cell_type": "code",
   "execution_count": 22,
   "id": "76186849",
   "metadata": {},
   "outputs": [
    {
     "name": "stdout",
     "output_type": "stream",
     "text": [
      "1  \n",
      "2  4  \n",
      "3  6  9  \n",
      "4  8  12  16  \n",
      "5  10  15  20  25  \n",
      "6  12  18  24  30  36  \n",
      "7  14  21  28  35  42  49  \n",
      "8  16  24  32  40  48  56  64  \n"
     ]
    }
   ],
   "source": [
    "#Question 5\n",
    "rows = 8\n",
    "# rows = int(input(\"Enter the number of row \"))\n",
    "for i in range(1, rows + 1):\n",
    "    for j in range(1, i + 1):\n",
    "# multiplication current column and row\n",
    "        square = i * j\n",
    "        print(i * j, end='  ')\n",
    "    print()"
   ]
  },
  {
   "cell_type": "code",
   "execution_count": null,
   "id": "d62f23cc",
   "metadata": {},
   "outputs": [],
   "source": [
    "# END"
   ]
  }
 ],
 "metadata": {
  "kernelspec": {
   "display_name": "Python 3 (ipykernel)",
   "language": "python",
   "name": "python3"
  },
  "language_info": {
   "codemirror_mode": {
    "name": "ipython",
    "version": 3
   },
   "file_extension": ".py",
   "mimetype": "text/x-python",
   "name": "python",
   "nbconvert_exporter": "python",
   "pygments_lexer": "ipython3",
   "version": "3.9.12"
  }
 },
 "nbformat": 4,
 "nbformat_minor": 5
}
